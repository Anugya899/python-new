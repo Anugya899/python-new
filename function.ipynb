{
 "cells": [
  {
   "cell_type": "code",
   "execution_count": 7,
   "metadata": {},
   "outputs": [
    {
     "name": "stdout",
     "output_type": "stream",
     "text": [
      "300\n",
      "5\n",
      "100\n"
     ]
    }
   ],
   "source": [
    "list=[10,5,15,40,50,80,100]\n",
    "def total_func():\n",
    "    sum=0\n",
    "    for i in list:\n",
    "        sum=sum+i\n",
    "    print(sum)\n",
    "total_func() \n",
    "def min_func():\n",
    "    a=list[0]\n",
    "    for i in list:\n",
    "        if a>i:\n",
    "            a=i\n",
    "    print(a)     \n",
    "min_func()\n",
    "def max_func():\n",
    "    a=list[0]\n",
    "    for i in list:\n",
    "        if a<i:\n",
    "            a=i\n",
    "    print(a)     \n",
    "max_func()"
   ]
  },
  {
   "cell_type": "code",
   "execution_count": 1,
   "metadata": {},
   "outputs": [
    {
     "data": {
      "text/plain": [
       "{'odd': [[5, 15]], 'even': [[10, 40, 50, 80, 100]]}"
      ]
     },
     "execution_count": 1,
     "metadata": {},
     "output_type": "execute_result"
    }
   ],
   "source": [
    "list=[10,5,15,40,50,80,100]\n",
    "def return_func():\n",
    "    odd=[]\n",
    "    even=[]\n",
    "    new={\"odd\":[],\"even\":[]}\n",
    "    for i in list:\n",
    "        if i%2==0:\n",
    "            even.append(i)\n",
    "        else:\n",
    "             odd.append(i)\n",
    "    new[\"odd\"].append(odd)\n",
    "    new[\"even\"].append(even)\n",
    "    return new\n",
    "return_func()"
   ]
  },
  {
   "cell_type": "code",
   "execution_count": null,
   "metadata": {},
   "outputs": [],
   "source": []
  },
  {
   "cell_type": "code",
   "execution_count": null,
   "metadata": {},
   "outputs": [],
   "source": []
  }
 ],
 "metadata": {
  "kernelspec": {
   "display_name": "Python 3",
   "language": "python",
   "name": "python3"
  },
  "language_info": {
   "codemirror_mode": {
    "name": "ipython",
    "version": 3
   },
   "file_extension": ".py",
   "mimetype": "text/x-python",
   "name": "python",
   "nbconvert_exporter": "python",
   "pygments_lexer": "ipython3",
   "version": "3.8.3"
  }
 },
 "nbformat": 4,
 "nbformat_minor": 4
}
