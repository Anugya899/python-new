{
 "cells": [
  {
   "cell_type": "code",
   "execution_count": 2,
   "metadata": {},
   "outputs": [
    {
     "name": "stdout",
     "output_type": "stream",
     "text": [
      "[{'name': 'prabhat', 'age': 23}, {'name': 'nitesh', 'age': 24}]\n",
      "['nitesh', 'prabhat']\n"
     ]
    }
   ],
   "source": [
    "list=[{'name':'prabhat','age':23},\n",
    "        {'name':'anugya','age':20},\n",
    "        {'name':'nitesh','age':24}]\n",
    "newlist=[]\n",
    "newlist1=[]\n",
    "for i in list:\n",
    "    if i['age']>20:\n",
    "        newlist.append(i)\n",
    "print(newlist)\n",
    "for a in newlist:\n",
    "    D=a['name']\n",
    "    newlist1.append(D)\n",
    "    newlist1.sort()\n",
    "print(newlist1)"
   ]
  },
  {
   "cell_type": "code",
   "execution_count": null,
   "metadata": {},
   "outputs": [],
   "source": []
  },
  {
   "cell_type": "code",
   "execution_count": null,
   "metadata": {},
   "outputs": [],
   "source": []
  },
  {
   "cell_type": "code",
   "execution_count": null,
   "metadata": {},
   "outputs": [],
   "source": []
  },
  {
   "cell_type": "code",
   "execution_count": null,
   "metadata": {},
   "outputs": [],
   "source": []
  }
 ],
 "metadata": {
  "kernelspec": {
   "display_name": "Python 3",
   "language": "python",
   "name": "python3"
  },
  "language_info": {
   "codemirror_mode": {
    "name": "ipython",
    "version": 3
   },
   "file_extension": ".py",
   "mimetype": "text/x-python",
   "name": "python",
   "nbconvert_exporter": "python",
   "pygments_lexer": "ipython3",
   "version": "3.8.3"
  }
 },
 "nbformat": 4,
 "nbformat_minor": 4
}
