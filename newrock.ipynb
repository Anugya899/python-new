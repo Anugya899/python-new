{
 "cells": [
  {
   "cell_type": "code",
   "execution_count": null,
   "metadata": {},
   "outputs": [],
   "source": [
    "import random\n",
    "list=['s','p','r']\n",
    "game=0\n",
    "while game<3:\n",
    "    game=game+1\n",
    "    person=input(\"Select s ,p, r: \")\n",
    "    position= random.choice(list)\n",
    "    print(position)\n",
    "    if person=='s' and position=='p':\n",
    "        print(\"Winner is Scissor \")\n",
    "        for i in person:\n",
    "            person=0;\n",
    "            person=(person)+1\n",
    "            print(\"Total point is\", person)\n",
    "    elif person=='p' and position=='r':\n",
    "        print(\"Winner is Rock \")\n",
    "    elif person=='p' and position=='p':\n",
    "        print(\"Draw\")\n",
    "    elif person=='s' and position=='s':\n",
    "         print(\"Draw\")\n",
    "    elif person=='r' and position=='r':\n",
    "        print(\"Draw\")\n",
    "    elif person=='s' and position=='r':\n",
    "        print(\"winner is rock\")\n",
    "    else:\n",
    "        print(\"nothing\")"
   ]
  }
 ],
 "metadata": {
  "kernelspec": {
   "display_name": "Python 3",
   "language": "python",
   "name": "python3"
  },
  "language_info": {
   "codemirror_mode": {
    "name": "ipython",
    "version": 3
   },
   "file_extension": ".py",
   "mimetype": "text/x-python",
   "name": "python",
   "nbconvert_exporter": "python",
   "pygments_lexer": "ipython3",
   "version": "3.8.3"
  }
 },
 "nbformat": 4,
 "nbformat_minor": 4
}
