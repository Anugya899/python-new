{
 "cells": [
  {
   "cell_type": "code",
   "execution_count": 14,
   "metadata": {},
   "outputs": [
    {
     "name": "stdout",
     "output_type": "stream",
     "text": [
      "Enter marks in physics : 75\n",
      "Enter marks in maths : 74\n",
      "Enter marks in biology : 76\n",
      "Enter marks in chemistry : 78\n",
      "Enter marks in english : 75\n",
      "Your Grade is B1\n"
     ]
    }
   ],
   "source": [
    "a=int(input(\"Enter marks in physics : \"))\n",
    "b=int(input(\"Enter marks in maths : \"))\n",
    "c=int(input(\"Enter marks in biology : \"))\n",
    "d=int(input(\"Enter marks in chemistry : \"))\n",
    "e=int(input(\"Enter marks in english : \"))\n",
    "percentage= ((a+b+c+d+e)/500)*100\n",
    "if percentage>=91 and percentage<=100:\n",
    "    print(\"Your Grade is A1\")\n",
    "elif percentage>=81 and percentage<91:\n",
    "    print(\"Your Grade is A2\")\n",
    "elif percentage>=71 and percentage<81:\n",
    "    print(\"Your Grade is B1\")\n",
    "elif percentage>=61 and percentage<71:\n",
    "    print(\"Your Grade is B2\")\n",
    "elif percentage>=51 and percentage<61:\n",
    "    print(\"Your Grade is C1\")\n",
    "elif percentage>=41 and percentage<51:\n",
    "    print(\"Your Grade is C2\")\n",
    "elif percentage>=33 and percentage<41:\n",
    "    print(\"Your Grade is D\")\n",
    "elif percentage>=21 and percentage<33:\n",
    "    print(\"Your Grade is E1\")\n",
    "else:\n",
    "    print(\"Invalid Input!\")"
   ]
  },
  {
   "cell_type": "code",
   "execution_count": null,
   "metadata": {},
   "outputs": [],
   "source": []
  }
 ],
 "metadata": {
  "kernelspec": {
   "display_name": "Python 3",
   "language": "python",
   "name": "python3"
  },
  "language_info": {
   "codemirror_mode": {
    "name": "ipython",
    "version": 3
   },
   "file_extension": ".py",
   "mimetype": "text/x-python",
   "name": "python",
   "nbconvert_exporter": "python",
   "pygments_lexer": "ipython3",
   "version": "3.8.3"
  }
 },
 "nbformat": 4,
 "nbformat_minor": 4
}
