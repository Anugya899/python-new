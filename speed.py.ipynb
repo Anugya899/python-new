{
 "cells": [
  {
   "cell_type": "code",
   "execution_count": 1,
   "metadata": {},
   "outputs": [
    {
     "name": "stdout",
     "output_type": "stream",
     "text": [
      "Enter the speed of the car: 300\n",
      "Demerit is 46.0\n",
      "license Suspended\n"
     ]
    }
   ],
   "source": [
    "def drivers_func(speed):\n",
    "    if speed<70:\n",
    "        print(\"ok\")\n",
    "    else:\n",
    "        d=0\n",
    "        d=((b-75)/5)+1\n",
    "        print (\"Demerit is\",d)     \n",
    "        if d>12:\n",
    "            print (\"license Suspended\")\n",
    "b=int(input(\"Enter the speed of the car: \"))\n",
    "drivers_func(b)"
   ]
  },
  {
   "cell_type": "code",
   "execution_count": 2,
   "metadata": {},
   "outputs": [
    {
     "data": {
      "text/plain": [
       "'C:\\\\Users\\\\lenovo'"
      ]
     },
     "execution_count": 2,
     "metadata": {},
     "output_type": "execute_result"
    }
   ],
   "source": [
    "pwd"
   ]
  },
  {
   "cell_type": "code",
   "execution_count": null,
   "metadata": {},
   "outputs": [],
   "source": []
  }
 ],
 "metadata": {
  "kernelspec": {
   "display_name": "Python 3",
   "language": "python",
   "name": "python3"
  },
  "language_info": {
   "codemirror_mode": {
    "name": "ipython",
    "version": 3
   },
   "file_extension": ".py",
   "mimetype": "text/x-python",
   "name": "python",
   "nbconvert_exporter": "python",
   "pygments_lexer": "ipython3",
   "version": "3.8.3"
  }
 },
 "nbformat": 4,
 "nbformat_minor": 4
}
